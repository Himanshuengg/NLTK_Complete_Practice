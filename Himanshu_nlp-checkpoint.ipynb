{
 "cells": [
  {
   "cell_type": "code",
   "execution_count": 1,
   "id": "74750184",
   "metadata": {},
   "outputs": [],
   "source": [
    "import nltk"
   ]
  },
  {
   "cell_type": "code",
   "execution_count": 2,
   "id": "9e789536",
   "metadata": {},
   "outputs": [
    {
     "name": "stdout",
     "output_type": "stream",
     "text": [
      "showing info https://raw.githubusercontent.com/nltk/nltk_data/gh-pages/index.xml\n"
     ]
    },
    {
     "data": {
      "text/plain": [
       "True"
      ]
     },
     "execution_count": 2,
     "metadata": {},
     "output_type": "execute_result"
    }
   ],
   "source": [
    "nltk.download()"
   ]
  },
  {
   "cell_type": "code",
   "execution_count": 3,
   "id": "bf80aa20",
   "metadata": {},
   "outputs": [],
   "source": [
    "import os\n",
    "import nltk\n",
    "import nltk.corpus"
   ]
  },
  {
   "cell_type": "code",
   "execution_count": 22,
   "id": "094fa26a",
   "metadata": {},
   "outputs": [
    {
     "name": "stdout",
     "output_type": "stream",
     "text": [
      "['abc', 'abc.zip', 'alpino', 'alpino.zip', 'biocreative_ppi', 'biocreative_ppi.zip', 'brown', 'brown.zip', 'brown_tei', 'brown_tei.zip', 'cess_cat', 'cess_cat.zip', 'cess_esp', 'cess_esp.zip', 'chat80', 'chat80.zip', 'city_database', 'city_database.zip', 'cmudict', 'cmudict.zip', 'comparative_sentences', 'comparative_sentences.zip', 'comtrans.zip', 'conll2000', 'conll2000.zip', 'conll2002', 'conll2002.zip', 'conll2007.zip', 'crubadan', 'crubadan.zip', 'dependency_treebank', 'dependency_treebank.zip', 'dolch', 'dolch.zip', 'europarl_raw', 'europarl_raw.zip', 'floresta', 'floresta.zip', 'framenet_v15', 'framenet_v15.zip', 'framenet_v17', 'framenet_v17.zip', 'gazetteers', 'gazetteers.zip', 'genesis', 'genesis.zip', 'gutenberg', 'gutenberg.zip', 'ieer', 'ieer.zip', 'inaugural', 'inaugural.zip', 'indian', 'indian.zip', 'jeita.zip', 'kimmo', 'kimmo.zip', 'knbc.zip', 'lin_thesaurus', 'lin_thesaurus.zip', 'machado.zip', 'mac_morpho', 'mac_morpho.zip', 'masc_tagged.zip', 'movie_reviews', 'movie_reviews.zip', 'mte_teip5', 'mte_teip5.zip', 'names', 'names.zip', 'nombank.1.0.zip', 'nonbreaking_prefixes', 'nonbreaking_prefixes.zip', 'nps_chat', 'nps_chat.zip', 'omw', 'omw-1.4', 'omw-1.4.zip', 'omw.zip', 'opinion_lexicon', 'opinion_lexicon.zip', 'panlex_swadesh.zip', 'paradigms', 'paradigms.zip', 'pe08', 'pe08.zip', 'pil', 'pil.zip', 'pl196x', 'pl196x.zip', 'ppattach', 'ppattach.zip', 'problem_reports', 'problem_reports.zip', 'product_reviews_1', 'product_reviews_1.zip', 'product_reviews_2', 'product_reviews_2.zip', 'propbank.zip', 'pros_cons', 'pros_cons.zip', 'ptb', 'ptb.zip', 'qc', 'qc.zip', 'reuters.zip', 'rte', 'rte.zip', 'semcor.zip', 'senseval', 'senseval.zip', 'sentence_polarity', 'sentence_polarity.zip', 'sentiwordnet', 'sentiwordnet.zip', 'shakespeare', 'shakespeare.zip', 'sinica_treebank', 'sinica_treebank.zip', 'smultron', 'smultron.zip', 'state_union', 'state_union.zip', 'stopwords', 'stopwords.zip', 'subjectivity', 'subjectivity.zip', 'swadesh', 'swadesh.zip', 'switchboard', 'switchboard.zip', 'timit', 'timit.zip', 'toolbox', 'toolbox.zip', 'treebank', 'treebank.zip', 'twitter_samples', 'twitter_samples.zip', 'udhr', 'udhr.zip', 'udhr2', 'udhr2.zip', 'unicode_samples', 'unicode_samples.zip', 'universal_treebanks_v20.zip', 'verbnet', 'verbnet.zip', 'verbnet3', 'verbnet3.zip', 'webtext', 'webtext.zip', 'wordnet', 'wordnet.zip', 'wordnet2021', 'wordnet2021.zip', 'wordnet31', 'wordnet31.zip', 'wordnet_ic', 'wordnet_ic.zip', 'words', 'words.zip', 'ycoe', 'ycoe.zip']\n"
     ]
    }
   ],
   "source": [
    "print(os.listdir(nltk.data.find(\"corpora\")))"
   ]
  },
  {
   "cell_type": "code",
   "execution_count": null,
   "id": "3fba3703",
   "metadata": {},
   "outputs": [],
   "source": []
  },
  {
   "cell_type": "code",
   "execution_count": 15,
   "id": "d5052163",
   "metadata": {},
   "outputs": [
    {
     "data": {
      "text/plain": [
       "['The', 'Fulton', 'County', 'Grand', 'Jury', 'said', ...]"
      ]
     },
     "execution_count": 15,
     "metadata": {},
     "output_type": "execute_result"
    }
   ],
   "source": [
    "from nltk.corpus import brown\n",
    "brown.words()"
   ]
  },
  {
   "cell_type": "code",
   "execution_count": 38,
   "id": "3bd9ccca",
   "metadata": {},
   "outputs": [
    {
     "name": "stdout",
     "output_type": "stream",
     "text": [
      "Hello Himanshu\n"
     ]
    }
   ],
   "source": [
    "print(\"Hello Himanshu\")\n"
   ]
  },
  {
   "cell_type": "code",
   "execution_count": 42,
   "id": "2af1750a",
   "metadata": {},
   "outputs": [
    {
     "data": {
      "text/plain": [
       "['[', 'The', 'Tragedie', 'of', 'Hamlet', 'by', ...]"
      ]
     },
     "execution_count": 42,
     "metadata": {},
     "output_type": "execute_result"
    }
   ],
   "source": [
    "hamlet = nltk.corpus.gutenberg.words('shakespeare-hamlet.txt')\n",
    "hamlet"
   ]
  },
  {
   "cell_type": "code",
   "execution_count": 41,
   "id": "fa9dfc95",
   "metadata": {},
   "outputs": [
    {
     "data": {
      "text/plain": [
       "['austen-emma.txt',\n",
       " 'austen-persuasion.txt',\n",
       " 'austen-sense.txt',\n",
       " 'bible-kjv.txt',\n",
       " 'blake-poems.txt',\n",
       " 'bryant-stories.txt',\n",
       " 'burgess-busterbrown.txt',\n",
       " 'carroll-alice.txt',\n",
       " 'chesterton-ball.txt',\n",
       " 'chesterton-brown.txt',\n",
       " 'chesterton-thursday.txt',\n",
       " 'edgeworth-parents.txt',\n",
       " 'melville-moby_dick.txt',\n",
       " 'milton-paradise.txt',\n",
       " 'shakespeare-caesar.txt',\n",
       " 'shakespeare-hamlet.txt',\n",
       " 'shakespeare-macbeth.txt',\n",
       " 'whitman-leaves.txt']"
      ]
     },
     "execution_count": 41,
     "metadata": {},
     "output_type": "execute_result"
    }
   ],
   "source": [
    "nltk.corpus.gutenberg.fileids()"
   ]
  },
  {
   "cell_type": "code",
   "execution_count": 44,
   "id": "e9002414",
   "metadata": {},
   "outputs": [],
   "source": [
    "AI = \"\"\"Artificial Intelligence refers to the intelligence of machines. This is in contrast to the natural intelligence of humans and animals. With Artificial Intelligence, machines perform functions such as learning, planning, reasoning and problem-solving. Most noteworthy, Artificial Intelligence is the simulation of human intelligence by machines. It is probably the fastest-growing development in the World of technology and innovation. Furthermore, many experts believe AI could solve major challenges and crisis situations.\n",
    "Applications of Artificial Intelligence.\n",
    "First of all, AI has significant use in healthcare. Companies are trying to develop technologies for quick diagnosis. Artificial Intelligence would efficiently operate on patients without human supervision. Such technological surgeries are already taking place. Another excellent healthcare technology is IBM Watson.\n",
    "\n",
    "Artificial Intelligence in business would significantly save time and effort. There is an application of robotic automation to human business tasks. Furthermore, Machine learning algorithms help in better serving customers. Chatbots provide immediate response and service to customers.\n",
    "\n",
    "AI can certainly make education more efficient. AI technology can discover the needs of students. Then it can adapt according to their needs. AI tutors provide study help to students. Also, AI can automate grading which results in saving a lot of time.\"\"\""
   ]
  },
  {
   "cell_type": "code",
   "execution_count": 89,
   "id": "f6585365",
   "metadata": {},
   "outputs": [
    {
     "data": {
      "text/plain": [
       "str"
      ]
     },
     "execution_count": 89,
     "metadata": {},
     "output_type": "execute_result"
    }
   ],
   "source": [
    "type(AI)"
   ]
  },
  {
   "cell_type": "code",
   "execution_count": 90,
   "id": "cec0eece",
   "metadata": {},
   "outputs": [],
   "source": [
    "# Tokenizaation\n",
    "\n"
   ]
  },
  {
   "cell_type": "code",
   "execution_count": 46,
   "id": "6b234e1d",
   "metadata": {},
   "outputs": [],
   "source": [
    "from nltk.tokenize import word_tokenize"
   ]
  },
  {
   "cell_type": "code",
   "execution_count": 66,
   "id": "10ab8478",
   "metadata": {},
   "outputs": [],
   "source": [
    "AI_tokens = word_tokenize(AI.lower())"
   ]
  },
  {
   "cell_type": "code",
   "execution_count": 67,
   "id": "c508a5f4",
   "metadata": {},
   "outputs": [
    {
     "data": {
      "text/plain": [
       "['artificial',\n",
       " 'intelligence',\n",
       " 'refers',\n",
       " 'to',\n",
       " 'the',\n",
       " 'intelligence',\n",
       " 'of',\n",
       " 'machines',\n",
       " '.',\n",
       " 'this',\n",
       " 'is',\n",
       " 'in',\n",
       " 'contrast',\n",
       " 'to',\n",
       " 'the',\n",
       " 'natural',\n",
       " 'intelligence',\n",
       " 'of',\n",
       " 'humans',\n",
       " 'and',\n",
       " 'animals',\n",
       " '.',\n",
       " 'with',\n",
       " 'artificial',\n",
       " 'intelligence',\n",
       " ',',\n",
       " 'machines',\n",
       " 'perform',\n",
       " 'functions',\n",
       " 'such',\n",
       " 'as',\n",
       " 'learning',\n",
       " ',',\n",
       " 'planning',\n",
       " ',',\n",
       " 'reasoning',\n",
       " 'and',\n",
       " 'problem-solving',\n",
       " '.',\n",
       " 'most',\n",
       " 'noteworthy',\n",
       " ',',\n",
       " 'artificial',\n",
       " 'intelligence',\n",
       " 'is',\n",
       " 'the',\n",
       " 'simulation',\n",
       " 'of',\n",
       " 'human',\n",
       " 'intelligence',\n",
       " 'by',\n",
       " 'machines',\n",
       " '.',\n",
       " 'it',\n",
       " 'is',\n",
       " 'probably',\n",
       " 'the',\n",
       " 'fastest-growing',\n",
       " 'development',\n",
       " 'in',\n",
       " 'the',\n",
       " 'world',\n",
       " 'of',\n",
       " 'technology',\n",
       " 'and',\n",
       " 'innovation',\n",
       " '.',\n",
       " 'furthermore',\n",
       " ',',\n",
       " 'many',\n",
       " 'experts',\n",
       " 'believe',\n",
       " 'ai',\n",
       " 'could',\n",
       " 'solve',\n",
       " 'major',\n",
       " 'challenges',\n",
       " 'and',\n",
       " 'crisis',\n",
       " 'situations',\n",
       " '.',\n",
       " 'applications',\n",
       " 'of',\n",
       " 'artificial',\n",
       " 'intelligence',\n",
       " '.',\n",
       " 'first',\n",
       " 'of',\n",
       " 'all',\n",
       " ',',\n",
       " 'ai',\n",
       " 'has',\n",
       " 'significant',\n",
       " 'use',\n",
       " 'in',\n",
       " 'healthcare',\n",
       " '.',\n",
       " 'companies',\n",
       " 'are',\n",
       " 'trying',\n",
       " 'to',\n",
       " 'develop',\n",
       " 'technologies',\n",
       " 'for',\n",
       " 'quick',\n",
       " 'diagnosis',\n",
       " '.',\n",
       " 'artificial',\n",
       " 'intelligence',\n",
       " 'would',\n",
       " 'efficiently',\n",
       " 'operate',\n",
       " 'on',\n",
       " 'patients',\n",
       " 'without',\n",
       " 'human',\n",
       " 'supervision',\n",
       " '.',\n",
       " 'such',\n",
       " 'technological',\n",
       " 'surgeries',\n",
       " 'are',\n",
       " 'already',\n",
       " 'taking',\n",
       " 'place',\n",
       " '.',\n",
       " 'another',\n",
       " 'excellent',\n",
       " 'healthcare',\n",
       " 'technology',\n",
       " 'is',\n",
       " 'ibm',\n",
       " 'watson',\n",
       " '.',\n",
       " 'artificial',\n",
       " 'intelligence',\n",
       " 'in',\n",
       " 'business',\n",
       " 'would',\n",
       " 'significantly',\n",
       " 'save',\n",
       " 'time',\n",
       " 'and',\n",
       " 'effort',\n",
       " '.',\n",
       " 'there',\n",
       " 'is',\n",
       " 'an',\n",
       " 'application',\n",
       " 'of',\n",
       " 'robotic',\n",
       " 'automation',\n",
       " 'to',\n",
       " 'human',\n",
       " 'business',\n",
       " 'tasks',\n",
       " '.',\n",
       " 'furthermore',\n",
       " ',',\n",
       " 'machine',\n",
       " 'learning',\n",
       " 'algorithms',\n",
       " 'help',\n",
       " 'in',\n",
       " 'better',\n",
       " 'serving',\n",
       " 'customers',\n",
       " '.',\n",
       " 'chatbots',\n",
       " 'provide',\n",
       " 'immediate',\n",
       " 'response',\n",
       " 'and',\n",
       " 'service',\n",
       " 'to',\n",
       " 'customers',\n",
       " '.',\n",
       " 'ai',\n",
       " 'can',\n",
       " 'certainly',\n",
       " 'make',\n",
       " 'education',\n",
       " 'more',\n",
       " 'efficient',\n",
       " '.',\n",
       " 'ai',\n",
       " 'technology',\n",
       " 'can',\n",
       " 'discover',\n",
       " 'the',\n",
       " 'needs',\n",
       " 'of',\n",
       " 'students',\n",
       " '.',\n",
       " 'then',\n",
       " 'it',\n",
       " 'can',\n",
       " 'adapt',\n",
       " 'according',\n",
       " 'to',\n",
       " 'their',\n",
       " 'needs',\n",
       " '.',\n",
       " 'ai',\n",
       " 'tutors',\n",
       " 'provide',\n",
       " 'study',\n",
       " 'help',\n",
       " 'to',\n",
       " 'students',\n",
       " '.',\n",
       " 'also',\n",
       " ',',\n",
       " 'ai',\n",
       " 'can',\n",
       " 'automate',\n",
       " 'grading',\n",
       " 'which',\n",
       " 'results',\n",
       " 'in',\n",
       " 'saving',\n",
       " 'a',\n",
       " 'lot',\n",
       " 'of',\n",
       " 'time',\n",
       " '.']"
      ]
     },
     "execution_count": 67,
     "metadata": {},
     "output_type": "execute_result"
    }
   ],
   "source": [
    "AI_tokens"
   ]
  },
  {
   "cell_type": "code",
   "execution_count": 58,
   "id": "15474e44",
   "metadata": {},
   "outputs": [
    {
     "data": {
      "text/plain": [
       "226"
      ]
     },
     "execution_count": 58,
     "metadata": {},
     "output_type": "execute_result"
    }
   ],
   "source": [
    "len(AI_tokens)"
   ]
  },
  {
   "cell_type": "code",
   "execution_count": 68,
   "id": "9ac86318",
   "metadata": {},
   "outputs": [
    {
     "data": {
      "text/plain": [
       "FreqDist({'.': 21, 'intelligence': 9, 'of': 9, ',': 8, 'to': 7, 'artificial': 6, 'the': 6, 'in': 6, 'and': 6, 'ai': 6, ...})"
      ]
     },
     "execution_count": 68,
     "metadata": {},
     "output_type": "execute_result"
    }
   ],
   "source": [
    "fdist = FreqDist(AI_tokens)\n",
    "fdist"
   ]
  },
  {
   "cell_type": "code",
   "execution_count": 57,
   "id": "148e5654",
   "metadata": {},
   "outputs": [
    {
     "ename": "TypeError",
     "evalue": "unsupported operand type(s) for +=: 'types.GenericAlias' and 'int'",
     "output_type": "error",
     "traceback": [
      "\u001b[1;31m---------------------------------------------------------------------------\u001b[0m",
      "\u001b[1;31mTypeError\u001b[0m                                 Traceback (most recent call last)",
      "\u001b[1;32m~\\AppData\\Local\\Temp/ipykernel_9608/913652340.py\u001b[0m in \u001b[0;36m<module>\u001b[1;34m\u001b[0m\n\u001b[0;32m      1\u001b[0m \u001b[1;32mfrom\u001b[0m \u001b[0mnltk\u001b[0m \u001b[1;32mimport\u001b[0m \u001b[0mFreqDist\u001b[0m\u001b[1;33m\u001b[0m\u001b[1;33m\u001b[0m\u001b[0m\n\u001b[0;32m      2\u001b[0m \u001b[1;32mfor\u001b[0m \u001b[0mword\u001b[0m \u001b[1;32min\u001b[0m \u001b[0mAI_tokens\u001b[0m\u001b[1;33m:\u001b[0m\u001b[1;33m\u001b[0m\u001b[1;33m\u001b[0m\u001b[0m\n\u001b[1;32m----> 3\u001b[1;33m     \u001b[0mFreqDist\u001b[0m\u001b[1;33m[\u001b[0m\u001b[0mword\u001b[0m\u001b[1;33m.\u001b[0m\u001b[0mlower\u001b[0m\u001b[1;33m(\u001b[0m\u001b[1;33m)\u001b[0m\u001b[1;33m]\u001b[0m\u001b[1;33m+=\u001b[0m\u001b[1;36m1\u001b[0m\u001b[1;33m\u001b[0m\u001b[1;33m\u001b[0m\u001b[0m\n\u001b[0m\u001b[0;32m      4\u001b[0m \u001b[0mFreqDist\u001b[0m\u001b[1;33m\u001b[0m\u001b[1;33m\u001b[0m\u001b[0m\n",
      "\u001b[1;31mTypeError\u001b[0m: unsupported operand type(s) for +=: 'types.GenericAlias' and 'int'"
     ]
    }
   ],
   "source": [
    "for word in AI_tokens:\n",
    "    fdist[word.lower()]+=1\n",
    "FreqDist"
   ]
  },
  {
   "cell_type": "code",
   "execution_count": 56,
   "id": "94a238ba",
   "metadata": {},
   "outputs": [
    {
     "data": {
      "text/plain": [
       "list"
      ]
     },
     "execution_count": 56,
     "metadata": {},
     "output_type": "execute_result"
    }
   ],
   "source": [
    "type(AI_tokens)"
   ]
  },
  {
   "cell_type": "code",
   "execution_count": 70,
   "id": "25520f93",
   "metadata": {},
   "outputs": [
    {
     "data": {
      "text/plain": [
       "6"
      ]
     },
     "execution_count": 70,
     "metadata": {},
     "output_type": "execute_result"
    }
   ],
   "source": [
    "fdist['artificial']"
   ]
  },
  {
   "cell_type": "code",
   "execution_count": 71,
   "id": "73aa8437",
   "metadata": {},
   "outputs": [
    {
     "data": {
      "text/plain": [
       "125"
      ]
     },
     "execution_count": 71,
     "metadata": {},
     "output_type": "execute_result"
    }
   ],
   "source": [
    "len(fdist)"
   ]
  },
  {
   "cell_type": "code",
   "execution_count": 73,
   "id": "8de653a4",
   "metadata": {},
   "outputs": [
    {
     "data": {
      "text/plain": [
       "[('.', 21),\n",
       " ('intelligence', 9),\n",
       " ('of', 9),\n",
       " (',', 8),\n",
       " ('to', 7),\n",
       " ('artificial', 6),\n",
       " ('the', 6),\n",
       " ('in', 6),\n",
       " ('and', 6),\n",
       " ('ai', 6)]"
      ]
     },
     "execution_count": 73,
     "metadata": {},
     "output_type": "execute_result"
    }
   ],
   "source": [
    "fdist_top10 = fdist.most_common(10)\n",
    "fdist_top10"
   ]
  },
  {
   "cell_type": "code",
   "execution_count": 74,
   "id": "5fc78851",
   "metadata": {},
   "outputs": [],
   "source": [
    "from nltk.tokenize import blankline_tokenize"
   ]
  },
  {
   "cell_type": "code",
   "execution_count": 75,
   "id": "9fbe1c7f",
   "metadata": {},
   "outputs": [
    {
     "data": {
      "text/plain": [
       "['Artificial Intelligence refers to the intelligence of machines. This is in contrast to the natural intelligence of humans and animals. With Artificial Intelligence, machines perform functions such as learning, planning, reasoning and problem-solving. Most noteworthy, Artificial Intelligence is the simulation of human intelligence by machines. It is probably the fastest-growing development in the World of technology and innovation. Furthermore, many experts believe AI could solve major challenges and crisis situations.\\nApplications of Artificial Intelligence.\\nFirst of all, AI has significant use in healthcare. Companies are trying to develop technologies for quick diagnosis. Artificial Intelligence would efficiently operate on patients without human supervision. Such technological surgeries are already taking place. Another excellent healthcare technology is IBM Watson.',\n",
       " 'Artificial Intelligence in business would significantly save time and effort. There is an application of robotic automation to human business tasks. Furthermore, Machine learning algorithms help in better serving customers. Chatbots provide immediate response and service to customers.',\n",
       " 'AI can certainly make education more efficient. AI technology can discover the needs of students. Then it can adapt according to their needs. AI tutors provide study help to students. Also, AI can automate grading which results in saving a lot of time.']"
      ]
     },
     "execution_count": 75,
     "metadata": {},
     "output_type": "execute_result"
    }
   ],
   "source": [
    "AI_blank = blankline_tokenize(AI)\n",
    "AI_blank"
   ]
  },
  {
   "cell_type": "code",
   "execution_count": 76,
   "id": "1b05c138",
   "metadata": {},
   "outputs": [
    {
     "data": {
      "text/plain": [
       "3"
      ]
     },
     "execution_count": 76,
     "metadata": {},
     "output_type": "execute_result"
    }
   ],
   "source": [
    "len(AI_blank)"
   ]
  },
  {
   "cell_type": "code",
   "execution_count": 77,
   "id": "9c2c1f23",
   "metadata": {},
   "outputs": [
    {
     "data": {
      "text/plain": [
       "'Artificial Intelligence in business would significantly save time and effort. There is an application of robotic automation to human business tasks. Furthermore, Machine learning algorithms help in better serving customers. Chatbots provide immediate response and service to customers.'"
      ]
     },
     "execution_count": 77,
     "metadata": {},
     "output_type": "execute_result"
    }
   ],
   "source": [
    "AI_blank[1]"
   ]
  },
  {
   "cell_type": "code",
   "execution_count": 79,
   "id": "07c59571",
   "metadata": {},
   "outputs": [],
   "source": [
    "from nltk.util import bigrams, trigrams, ngrams"
   ]
  },
  {
   "cell_type": "code",
   "execution_count": 80,
   "id": "2ad96c20",
   "metadata": {},
   "outputs": [],
   "source": [
    "string = \"Artificial Intelligence refers to the intelligence of machines. This is in contrast to the natural intelligence of humans and animals. With Artificial Intelligence, machines perform functions such as learning, planning, reasoning and problem-solving. Most noteworthy, Artificial Intelligence is the simulation of human intelligence by machines. It is probably the fastest-growing development in the World of technology and innovation. \""
   ]
  },
  {
   "cell_type": "code",
   "execution_count": 82,
   "id": "75422bc0",
   "metadata": {},
   "outputs": [
    {
     "data": {
      "text/plain": [
       "['Artificial',\n",
       " 'Intelligence',\n",
       " 'refers',\n",
       " 'to',\n",
       " 'the',\n",
       " 'intelligence',\n",
       " 'of',\n",
       " 'machines',\n",
       " '.',\n",
       " 'This',\n",
       " 'is',\n",
       " 'in',\n",
       " 'contrast',\n",
       " 'to',\n",
       " 'the',\n",
       " 'natural',\n",
       " 'intelligence',\n",
       " 'of',\n",
       " 'humans',\n",
       " 'and',\n",
       " 'animals',\n",
       " '.',\n",
       " 'With',\n",
       " 'Artificial',\n",
       " 'Intelligence',\n",
       " ',',\n",
       " 'machines',\n",
       " 'perform',\n",
       " 'functions',\n",
       " 'such',\n",
       " 'as',\n",
       " 'learning',\n",
       " ',',\n",
       " 'planning',\n",
       " ',',\n",
       " 'reasoning',\n",
       " 'and',\n",
       " 'problem-solving',\n",
       " '.',\n",
       " 'Most',\n",
       " 'noteworthy',\n",
       " ',',\n",
       " 'Artificial',\n",
       " 'Intelligence',\n",
       " 'is',\n",
       " 'the',\n",
       " 'simulation',\n",
       " 'of',\n",
       " 'human',\n",
       " 'intelligence',\n",
       " 'by',\n",
       " 'machines',\n",
       " '.',\n",
       " 'It',\n",
       " 'is',\n",
       " 'probably',\n",
       " 'the',\n",
       " 'fastest-growing',\n",
       " 'development',\n",
       " 'in',\n",
       " 'the',\n",
       " 'World',\n",
       " 'of',\n",
       " 'technology',\n",
       " 'and',\n",
       " 'innovation',\n",
       " '.']"
      ]
     },
     "execution_count": 82,
     "metadata": {},
     "output_type": "execute_result"
    }
   ],
   "source": [
    "quotes_token = nltk.word_tokenize(string)\n",
    "quotes_token"
   ]
  },
  {
   "cell_type": "code",
   "execution_count": 84,
   "id": "3e9fe050",
   "metadata": {},
   "outputs": [
    {
     "data": {
      "text/plain": [
       "[('Artificial', 'Intelligence'),\n",
       " ('Intelligence', 'refers'),\n",
       " ('refers', 'to'),\n",
       " ('to', 'the'),\n",
       " ('the', 'intelligence'),\n",
       " ('intelligence', 'of'),\n",
       " ('of', 'machines'),\n",
       " ('machines', '.'),\n",
       " ('.', 'This'),\n",
       " ('This', 'is'),\n",
       " ('is', 'in'),\n",
       " ('in', 'contrast'),\n",
       " ('contrast', 'to'),\n",
       " ('to', 'the'),\n",
       " ('the', 'natural'),\n",
       " ('natural', 'intelligence'),\n",
       " ('intelligence', 'of'),\n",
       " ('of', 'humans'),\n",
       " ('humans', 'and'),\n",
       " ('and', 'animals'),\n",
       " ('animals', '.'),\n",
       " ('.', 'With'),\n",
       " ('With', 'Artificial'),\n",
       " ('Artificial', 'Intelligence'),\n",
       " ('Intelligence', ','),\n",
       " (',', 'machines'),\n",
       " ('machines', 'perform'),\n",
       " ('perform', 'functions'),\n",
       " ('functions', 'such'),\n",
       " ('such', 'as'),\n",
       " ('as', 'learning'),\n",
       " ('learning', ','),\n",
       " (',', 'planning'),\n",
       " ('planning', ','),\n",
       " (',', 'reasoning'),\n",
       " ('reasoning', 'and'),\n",
       " ('and', 'problem-solving'),\n",
       " ('problem-solving', '.'),\n",
       " ('.', 'Most'),\n",
       " ('Most', 'noteworthy'),\n",
       " ('noteworthy', ','),\n",
       " (',', 'Artificial'),\n",
       " ('Artificial', 'Intelligence'),\n",
       " ('Intelligence', 'is'),\n",
       " ('is', 'the'),\n",
       " ('the', 'simulation'),\n",
       " ('simulation', 'of'),\n",
       " ('of', 'human'),\n",
       " ('human', 'intelligence'),\n",
       " ('intelligence', 'by'),\n",
       " ('by', 'machines'),\n",
       " ('machines', '.'),\n",
       " ('.', 'It'),\n",
       " ('It', 'is'),\n",
       " ('is', 'probably'),\n",
       " ('probably', 'the'),\n",
       " ('the', 'fastest-growing'),\n",
       " ('fastest-growing', 'development'),\n",
       " ('development', 'in'),\n",
       " ('in', 'the'),\n",
       " ('the', 'World'),\n",
       " ('World', 'of'),\n",
       " ('of', 'technology'),\n",
       " ('technology', 'and'),\n",
       " ('and', 'innovation'),\n",
       " ('innovation', '.')]"
      ]
     },
     "execution_count": 84,
     "metadata": {},
     "output_type": "execute_result"
    }
   ],
   "source": [
    "quotes_bigram = list(nltk.bigrams(quotes_token))\n",
    "quotes_bigram"
   ]
  },
  {
   "cell_type": "code",
   "execution_count": 86,
   "id": "387a6691",
   "metadata": {},
   "outputs": [
    {
     "data": {
      "text/plain": [
       "[('Artificial', 'Intelligence', 'refers'),\n",
       " ('Intelligence', 'refers', 'to'),\n",
       " ('refers', 'to', 'the'),\n",
       " ('to', 'the', 'intelligence'),\n",
       " ('the', 'intelligence', 'of'),\n",
       " ('intelligence', 'of', 'machines'),\n",
       " ('of', 'machines', '.'),\n",
       " ('machines', '.', 'This'),\n",
       " ('.', 'This', 'is'),\n",
       " ('This', 'is', 'in'),\n",
       " ('is', 'in', 'contrast'),\n",
       " ('in', 'contrast', 'to'),\n",
       " ('contrast', 'to', 'the'),\n",
       " ('to', 'the', 'natural'),\n",
       " ('the', 'natural', 'intelligence'),\n",
       " ('natural', 'intelligence', 'of'),\n",
       " ('intelligence', 'of', 'humans'),\n",
       " ('of', 'humans', 'and'),\n",
       " ('humans', 'and', 'animals'),\n",
       " ('and', 'animals', '.'),\n",
       " ('animals', '.', 'With'),\n",
       " ('.', 'With', 'Artificial'),\n",
       " ('With', 'Artificial', 'Intelligence'),\n",
       " ('Artificial', 'Intelligence', ','),\n",
       " ('Intelligence', ',', 'machines'),\n",
       " (',', 'machines', 'perform'),\n",
       " ('machines', 'perform', 'functions'),\n",
       " ('perform', 'functions', 'such'),\n",
       " ('functions', 'such', 'as'),\n",
       " ('such', 'as', 'learning'),\n",
       " ('as', 'learning', ','),\n",
       " ('learning', ',', 'planning'),\n",
       " (',', 'planning', ','),\n",
       " ('planning', ',', 'reasoning'),\n",
       " (',', 'reasoning', 'and'),\n",
       " ('reasoning', 'and', 'problem-solving'),\n",
       " ('and', 'problem-solving', '.'),\n",
       " ('problem-solving', '.', 'Most'),\n",
       " ('.', 'Most', 'noteworthy'),\n",
       " ('Most', 'noteworthy', ','),\n",
       " ('noteworthy', ',', 'Artificial'),\n",
       " (',', 'Artificial', 'Intelligence'),\n",
       " ('Artificial', 'Intelligence', 'is'),\n",
       " ('Intelligence', 'is', 'the'),\n",
       " ('is', 'the', 'simulation'),\n",
       " ('the', 'simulation', 'of'),\n",
       " ('simulation', 'of', 'human'),\n",
       " ('of', 'human', 'intelligence'),\n",
       " ('human', 'intelligence', 'by'),\n",
       " ('intelligence', 'by', 'machines'),\n",
       " ('by', 'machines', '.'),\n",
       " ('machines', '.', 'It'),\n",
       " ('.', 'It', 'is'),\n",
       " ('It', 'is', 'probably'),\n",
       " ('is', 'probably', 'the'),\n",
       " ('probably', 'the', 'fastest-growing'),\n",
       " ('the', 'fastest-growing', 'development'),\n",
       " ('fastest-growing', 'development', 'in'),\n",
       " ('development', 'in', 'the'),\n",
       " ('in', 'the', 'World'),\n",
       " ('the', 'World', 'of'),\n",
       " ('World', 'of', 'technology'),\n",
       " ('of', 'technology', 'and'),\n",
       " ('technology', 'and', 'innovation'),\n",
       " ('and', 'innovation', '.')]"
      ]
     },
     "execution_count": 86,
     "metadata": {},
     "output_type": "execute_result"
    }
   ],
   "source": [
    "quotes_trigram = list(nltk.trigrams(quotes_token))\n",
    "quotes_trigram"
   ]
  },
  {
   "cell_type": "code",
   "execution_count": 88,
   "id": "c4615a7f",
   "metadata": {},
   "outputs": [
    {
     "data": {
      "text/plain": [
       "[('Artificial', 'Intelligence', 'refers', 'to'),\n",
       " ('Intelligence', 'refers', 'to', 'the'),\n",
       " ('refers', 'to', 'the', 'intelligence'),\n",
       " ('to', 'the', 'intelligence', 'of'),\n",
       " ('the', 'intelligence', 'of', 'machines'),\n",
       " ('intelligence', 'of', 'machines', '.'),\n",
       " ('of', 'machines', '.', 'This'),\n",
       " ('machines', '.', 'This', 'is'),\n",
       " ('.', 'This', 'is', 'in'),\n",
       " ('This', 'is', 'in', 'contrast'),\n",
       " ('is', 'in', 'contrast', 'to'),\n",
       " ('in', 'contrast', 'to', 'the'),\n",
       " ('contrast', 'to', 'the', 'natural'),\n",
       " ('to', 'the', 'natural', 'intelligence'),\n",
       " ('the', 'natural', 'intelligence', 'of'),\n",
       " ('natural', 'intelligence', 'of', 'humans'),\n",
       " ('intelligence', 'of', 'humans', 'and'),\n",
       " ('of', 'humans', 'and', 'animals'),\n",
       " ('humans', 'and', 'animals', '.'),\n",
       " ('and', 'animals', '.', 'With'),\n",
       " ('animals', '.', 'With', 'Artificial'),\n",
       " ('.', 'With', 'Artificial', 'Intelligence'),\n",
       " ('With', 'Artificial', 'Intelligence', ','),\n",
       " ('Artificial', 'Intelligence', ',', 'machines'),\n",
       " ('Intelligence', ',', 'machines', 'perform'),\n",
       " (',', 'machines', 'perform', 'functions'),\n",
       " ('machines', 'perform', 'functions', 'such'),\n",
       " ('perform', 'functions', 'such', 'as'),\n",
       " ('functions', 'such', 'as', 'learning'),\n",
       " ('such', 'as', 'learning', ','),\n",
       " ('as', 'learning', ',', 'planning'),\n",
       " ('learning', ',', 'planning', ','),\n",
       " (',', 'planning', ',', 'reasoning'),\n",
       " ('planning', ',', 'reasoning', 'and'),\n",
       " (',', 'reasoning', 'and', 'problem-solving'),\n",
       " ('reasoning', 'and', 'problem-solving', '.'),\n",
       " ('and', 'problem-solving', '.', 'Most'),\n",
       " ('problem-solving', '.', 'Most', 'noteworthy'),\n",
       " ('.', 'Most', 'noteworthy', ','),\n",
       " ('Most', 'noteworthy', ',', 'Artificial'),\n",
       " ('noteworthy', ',', 'Artificial', 'Intelligence'),\n",
       " (',', 'Artificial', 'Intelligence', 'is'),\n",
       " ('Artificial', 'Intelligence', 'is', 'the'),\n",
       " ('Intelligence', 'is', 'the', 'simulation'),\n",
       " ('is', 'the', 'simulation', 'of'),\n",
       " ('the', 'simulation', 'of', 'human'),\n",
       " ('simulation', 'of', 'human', 'intelligence'),\n",
       " ('of', 'human', 'intelligence', 'by'),\n",
       " ('human', 'intelligence', 'by', 'machines'),\n",
       " ('intelligence', 'by', 'machines', '.'),\n",
       " ('by', 'machines', '.', 'It'),\n",
       " ('machines', '.', 'It', 'is'),\n",
       " ('.', 'It', 'is', 'probably'),\n",
       " ('It', 'is', 'probably', 'the'),\n",
       " ('is', 'probably', 'the', 'fastest-growing'),\n",
       " ('probably', 'the', 'fastest-growing', 'development'),\n",
       " ('the', 'fastest-growing', 'development', 'in'),\n",
       " ('fastest-growing', 'development', 'in', 'the'),\n",
       " ('development', 'in', 'the', 'World'),\n",
       " ('in', 'the', 'World', 'of'),\n",
       " ('the', 'World', 'of', 'technology'),\n",
       " ('World', 'of', 'technology', 'and'),\n",
       " ('of', 'technology', 'and', 'innovation'),\n",
       " ('technology', 'and', 'innovation', '.')]"
      ]
     },
     "execution_count": 88,
     "metadata": {},
     "output_type": "execute_result"
    }
   ],
   "source": [
    "quotes_ngram = list(nltk.ngrams(quotes_token, 4))\n",
    "quotes_ngram"
   ]
  },
  {
   "cell_type": "code",
   "execution_count": 100,
   "id": "b6db812f",
   "metadata": {},
   "outputs": [],
   "source": [
    "# STEMMING\n",
    "\n",
    "#PorterStemmer"
   ]
  },
  {
   "cell_type": "code",
   "execution_count": 95,
   "id": "2231efcf",
   "metadata": {},
   "outputs": [],
   "source": [
    "from nltk.stem import PorterStemmer\n",
    "pst = PorterStemmer()"
   ]
  },
  {
   "cell_type": "code",
   "execution_count": 96,
   "id": "ba1d09e5",
   "metadata": {},
   "outputs": [
    {
     "data": {
      "text/plain": [
       "'have'"
      ]
     },
     "execution_count": 96,
     "metadata": {},
     "output_type": "execute_result"
    }
   ],
   "source": [
    "pst.stem(\"having\")"
   ]
  },
  {
   "cell_type": "code",
   "execution_count": 97,
   "id": "70bf48a1",
   "metadata": {},
   "outputs": [
    {
     "data": {
      "text/plain": [
       "'look'"
      ]
     },
     "execution_count": 97,
     "metadata": {},
     "output_type": "execute_result"
    }
   ],
   "source": [
    "pst.stem(\"looking\")"
   ]
  },
  {
   "cell_type": "code",
   "execution_count": 98,
   "id": "33b8ca1d",
   "metadata": {},
   "outputs": [],
   "source": [
    "words_to_stem = [\"give\",\"giving\",\"given\",\"gave\"]"
   ]
  },
  {
   "cell_type": "code",
   "execution_count": 99,
   "id": "99d9bad3",
   "metadata": {},
   "outputs": [
    {
     "name": "stdout",
     "output_type": "stream",
     "text": [
      "give : give\n",
      "giving : give\n",
      "given : given\n",
      "gave : gave\n"
     ]
    }
   ],
   "source": [
    "for words in words_to_stem:\n",
    "    print(words +\" : \"+ pst.stem(words))"
   ]
  },
  {
   "cell_type": "code",
   "execution_count": 101,
   "id": "5dfb6be2",
   "metadata": {},
   "outputs": [],
   "source": [
    "   # LancasterStemmer\n",
    "    "
   ]
  },
  {
   "cell_type": "code",
   "execution_count": 103,
   "id": "7f5ae0ad",
   "metadata": {},
   "outputs": [],
   "source": [
    "from nltk.stem import LancasterStemmer"
   ]
  },
  {
   "cell_type": "code",
   "execution_count": 104,
   "id": "fc17576c",
   "metadata": {},
   "outputs": [
    {
     "name": "stdout",
     "output_type": "stream",
     "text": [
      "give : giv\n",
      "giving : giv\n",
      "given : giv\n",
      "gave : gav\n"
     ]
    }
   ],
   "source": [
    "lst = LancasterStemmer()\n",
    "for words in words_to_stem:\n",
    "    print(words +\" : \"+ lst.stem(words))"
   ]
  },
  {
   "cell_type": "code",
   "execution_count": 105,
   "id": "373fa48b",
   "metadata": {},
   "outputs": [],
   "source": [
    "# SnowballStremmer"
   ]
  },
  {
   "cell_type": "code",
   "execution_count": 110,
   "id": "39a21dfd",
   "metadata": {},
   "outputs": [],
   "source": [
    "from nltk.stem import SnowballStemmer"
   ]
  },
  {
   "cell_type": "code",
   "execution_count": 109,
   "id": "1de0aa09",
   "metadata": {},
   "outputs": [
    {
     "ename": "NameError",
     "evalue": "name 'SnowballStemmer' is not defined",
     "output_type": "error",
     "traceback": [
      "\u001b[1;31m---------------------------------------------------------------------------\u001b[0m",
      "\u001b[1;31mNameError\u001b[0m                                 Traceback (most recent call last)",
      "\u001b[1;32m~\\AppData\\Local\\Temp/ipykernel_9608/4026343008.py\u001b[0m in \u001b[0;36m<module>\u001b[1;34m\u001b[0m\n\u001b[1;32m----> 1\u001b[1;33m \u001b[0msbst\u001b[0m \u001b[1;33m=\u001b[0m \u001b[0mSnowballStemmer\u001b[0m\u001b[1;33m(\u001b[0m\u001b[1;34m'english'\u001b[0m\u001b[1;33m)\u001b[0m\u001b[1;33m\u001b[0m\u001b[1;33m\u001b[0m\u001b[0m\n\u001b[0m\u001b[0;32m      2\u001b[0m \u001b[1;32mfor\u001b[0m \u001b[0mwords\u001b[0m \u001b[1;32min\u001b[0m \u001b[0mwords_to_stem\u001b[0m\u001b[1;33m:\u001b[0m\u001b[1;33m\u001b[0m\u001b[1;33m\u001b[0m\u001b[0m\n\u001b[0;32m      3\u001b[0m     \u001b[0mprint\u001b[0m\u001b[1;33m(\u001b[0m\u001b[0mwords\u001b[0m \u001b[1;33m+\u001b[0m\u001b[1;34m\" : \"\u001b[0m\u001b[1;33m+\u001b[0m \u001b[0msbst\u001b[0m\u001b[1;33m.\u001b[0m\u001b[0mstem\u001b[0m\u001b[1;33m(\u001b[0m\u001b[0mwords\u001b[0m\u001b[1;33m)\u001b[0m\u001b[1;33m)\u001b[0m\u001b[1;33m\u001b[0m\u001b[1;33m\u001b[0m\u001b[0m\n",
      "\u001b[1;31mNameError\u001b[0m: name 'SnowballStemmer' is not defined"
     ]
    }
   ],
   "source": [
    "sbst = SnowballStemmer('english')\n",
    "for words in words_to_stem:\n",
    "    print(words +\" : \"+ sbst.stem(words))"
   ]
  },
  {
   "cell_type": "code",
   "execution_count": null,
   "id": "ae9709c6",
   "metadata": {},
   "outputs": [],
   "source": []
  }
 ],
 "metadata": {
  "kernelspec": {
   "display_name": "Python 3 (ipykernel)",
   "language": "python",
   "name": "python3"
  },
  "language_info": {
   "codemirror_mode": {
    "name": "ipython",
    "version": 3
   },
   "file_extension": ".py",
   "mimetype": "text/x-python",
   "name": "python",
   "nbconvert_exporter": "python",
   "pygments_lexer": "ipython3",
   "version": "3.10.1"
  }
 },
 "nbformat": 4,
 "nbformat_minor": 5
}
